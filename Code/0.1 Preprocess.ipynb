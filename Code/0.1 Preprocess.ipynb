{
 "cells": [
  {
   "cell_type": "code",
   "execution_count": 1,
   "id": "779cb697-67cc-49d5-9eac-a7871a79561e",
   "metadata": {},
   "outputs": [
    {
     "data": {
      "text/html": [
       "<table class=\"dataframe\">\n",
       "<caption>A data.frame: 6 × 6</caption>\n",
       "<thead>\n",
       "\t<tr><th></th><th scope=col>X</th><th scope=col>year</th><th scope=col>month</th><th scope=col>prov</th><th scope=col>pop</th><th scope=col>protests</th></tr>\n",
       "\t<tr><th></th><th scope=col>&lt;int&gt;</th><th scope=col>&lt;int&gt;</th><th scope=col>&lt;chr&gt;</th><th scope=col>&lt;chr&gt;</th><th scope=col>&lt;int&gt;</th><th scope=col>&lt;int&gt;</th></tr>\n",
       "</thead>\n",
       "<tbody>\n",
       "\t<tr><th scope=row>1</th><td>1</td><td>2023</td><td>November</td><td>Alberta                  </td><td>4756408</td><td>20</td></tr>\n",
       "\t<tr><th scope=row>2</th><td>2</td><td>2023</td><td>November</td><td>British Columbia         </td><td>5581127</td><td>27</td></tr>\n",
       "\t<tr><th scope=row>3</th><td>3</td><td>2023</td><td>November</td><td>Manitoba                 </td><td>1465440</td><td>10</td></tr>\n",
       "\t<tr><th scope=row>4</th><td>4</td><td>2023</td><td>November</td><td>New Brunswick            </td><td> 842725</td><td> 5</td></tr>\n",
       "\t<tr><th scope=row>5</th><td>5</td><td>2023</td><td>November</td><td>Newfoundland and Labrador</td><td> 540418</td><td> 7</td></tr>\n",
       "\t<tr><th scope=row>6</th><td>6</td><td>2023</td><td>November</td><td>Northwest Territories    </td><td>  44760</td><td> 2</td></tr>\n",
       "</tbody>\n",
       "</table>\n"
      ],
      "text/latex": [
       "A data.frame: 6 × 6\n",
       "\\begin{tabular}{r|llllll}\n",
       "  & X & year & month & prov & pop & protests\\\\\n",
       "  & <int> & <int> & <chr> & <chr> & <int> & <int>\\\\\n",
       "\\hline\n",
       "\t1 & 1 & 2023 & November & Alberta                   & 4756408 & 20\\\\\n",
       "\t2 & 2 & 2023 & November & British Columbia          & 5581127 & 27\\\\\n",
       "\t3 & 3 & 2023 & November & Manitoba                  & 1465440 & 10\\\\\n",
       "\t4 & 4 & 2023 & November & New Brunswick             &  842725 &  5\\\\\n",
       "\t5 & 5 & 2023 & November & Newfoundland and Labrador &  540418 &  7\\\\\n",
       "\t6 & 6 & 2023 & November & Northwest Territories     &   44760 &  2\\\\\n",
       "\\end{tabular}\n"
      ],
      "text/markdown": [
       "\n",
       "A data.frame: 6 × 6\n",
       "\n",
       "| <!--/--> | X &lt;int&gt; | year &lt;int&gt; | month &lt;chr&gt; | prov &lt;chr&gt; | pop &lt;int&gt; | protests &lt;int&gt; |\n",
       "|---|---|---|---|---|---|---|\n",
       "| 1 | 1 | 2023 | November | Alberta                   | 4756408 | 20 |\n",
       "| 2 | 2 | 2023 | November | British Columbia          | 5581127 | 27 |\n",
       "| 3 | 3 | 2023 | November | Manitoba                  | 1465440 | 10 |\n",
       "| 4 | 4 | 2023 | November | New Brunswick             |  842725 |  5 |\n",
       "| 5 | 5 | 2023 | November | Newfoundland and Labrador |  540418 |  7 |\n",
       "| 6 | 6 | 2023 | November | Northwest Territories     |   44760 |  2 |\n",
       "\n"
      ],
      "text/plain": [
       "  X year month    prov                      pop     protests\n",
       "1 1 2023 November Alberta                   4756408 20      \n",
       "2 2 2023 November British Columbia          5581127 27      \n",
       "3 3 2023 November Manitoba                  1465440 10      \n",
       "4 4 2023 November New Brunswick              842725  5      \n",
       "5 5 2023 November Newfoundland and Labrador  540418  7      \n",
       "6 6 2023 November Northwest Territories       44760  2      "
      ]
     },
     "metadata": {},
     "output_type": "display_data"
    }
   ],
   "source": [
    "# Set seed to replicate exact answers\n",
    "set.seed(123)\n",
    "# Read data\n",
    "df <- read.csv(\"canadianProtestData.csv\")\n",
    "head(df)"
   ]
  },
  {
   "cell_type": "markdown",
   "id": "729ca10a-7cfa-4c7d-9a1b-e6f8820d615c",
   "metadata": {},
   "source": [
    "**Pre-Processing**\n",
    "\n",
    "-------------------------------\n",
    "First of the id section is to be removed as it adds redundancy. For variables that are meant to be in a category we may use the function\n",
    "\n",
    "> as.factor()\n",
    "\n",
    "and for the variables we wish to define as numeric instead of integers, we may use the function\n",
    "\n",
    "> as.numeric()"
   ]
  },
  {
   "cell_type": "code",
   "execution_count": 2,
   "id": "5af69585-89e7-4c10-ad10-8af56cec533b",
   "metadata": {},
   "outputs": [
    {
     "data": {
      "text/html": [
       "<table class=\"dataframe\">\n",
       "<caption>A data.frame: 6 × 5</caption>\n",
       "<thead>\n",
       "\t<tr><th></th><th scope=col>year</th><th scope=col>month</th><th scope=col>prov</th><th scope=col>pop</th><th scope=col>protests</th></tr>\n",
       "\t<tr><th></th><th scope=col>&lt;fct&gt;</th><th scope=col>&lt;fct&gt;</th><th scope=col>&lt;fct&gt;</th><th scope=col>&lt;dbl&gt;</th><th scope=col>&lt;dbl&gt;</th></tr>\n",
       "</thead>\n",
       "<tbody>\n",
       "\t<tr><th scope=row>1</th><td>2023</td><td>November</td><td>Alberta                  </td><td>15.37500</td><td>20</td></tr>\n",
       "\t<tr><th scope=row>2</th><td>2023</td><td>November</td><td>British Columbia         </td><td>15.53490</td><td>27</td></tr>\n",
       "\t<tr><th scope=row>3</th><td>2023</td><td>November</td><td>Manitoba                 </td><td>14.19767</td><td>10</td></tr>\n",
       "\t<tr><th scope=row>4</th><td>2023</td><td>November</td><td>New Brunswick            </td><td>13.64440</td><td> 5</td></tr>\n",
       "\t<tr><th scope=row>5</th><td>2023</td><td>November</td><td>Newfoundland and Labrador</td><td>13.20010</td><td> 7</td></tr>\n",
       "\t<tr><th scope=row>6</th><td>2023</td><td>November</td><td>Northwest Territories    </td><td>10.70907</td><td> 2</td></tr>\n",
       "</tbody>\n",
       "</table>\n"
      ],
      "text/latex": [
       "A data.frame: 6 × 5\n",
       "\\begin{tabular}{r|lllll}\n",
       "  & year & month & prov & pop & protests\\\\\n",
       "  & <fct> & <fct> & <fct> & <dbl> & <dbl>\\\\\n",
       "\\hline\n",
       "\t1 & 2023 & November & Alberta                   & 15.37500 & 20\\\\\n",
       "\t2 & 2023 & November & British Columbia          & 15.53490 & 27\\\\\n",
       "\t3 & 2023 & November & Manitoba                  & 14.19767 & 10\\\\\n",
       "\t4 & 2023 & November & New Brunswick             & 13.64440 &  5\\\\\n",
       "\t5 & 2023 & November & Newfoundland and Labrador & 13.20010 &  7\\\\\n",
       "\t6 & 2023 & November & Northwest Territories     & 10.70907 &  2\\\\\n",
       "\\end{tabular}\n"
      ],
      "text/markdown": [
       "\n",
       "A data.frame: 6 × 5\n",
       "\n",
       "| <!--/--> | year &lt;fct&gt; | month &lt;fct&gt; | prov &lt;fct&gt; | pop &lt;dbl&gt; | protests &lt;dbl&gt; |\n",
       "|---|---|---|---|---|---|\n",
       "| 1 | 2023 | November | Alberta                   | 15.37500 | 20 |\n",
       "| 2 | 2023 | November | British Columbia          | 15.53490 | 27 |\n",
       "| 3 | 2023 | November | Manitoba                  | 14.19767 | 10 |\n",
       "| 4 | 2023 | November | New Brunswick             | 13.64440 |  5 |\n",
       "| 5 | 2023 | November | Newfoundland and Labrador | 13.20010 |  7 |\n",
       "| 6 | 2023 | November | Northwest Territories     | 10.70907 |  2 |\n",
       "\n"
      ],
      "text/plain": [
       "  year month    prov                      pop      protests\n",
       "1 2023 November Alberta                   15.37500 20      \n",
       "2 2023 November British Columbia          15.53490 27      \n",
       "3 2023 November Manitoba                  14.19767 10      \n",
       "4 2023 November New Brunswick             13.64440  5      \n",
       "5 2023 November Newfoundland and Labrador 13.20010  7      \n",
       "6 2023 November Northwest Territories     10.70907  2      "
      ]
     },
     "metadata": {},
     "output_type": "display_data"
    }
   ],
   "source": [
    "# Remove ids\n",
    "df <- df[, -which(names(df) == \"X\")]\n",
    "\n",
    "# Want prov and months to be categories rather than just a word of characters\n",
    "df$prov  <- as.factor( df$prov  )\n",
    "df$month <- as.factor( df$month )\n",
    "\n",
    "# Define year to also be a category of which year rather than a large number\n",
    "df$year <- as.factor( df$year )\n",
    "\n",
    "# Pop and protest defined as numbers instead of integers\n",
    "df$pop <- as.numeric( df$pop )\n",
    "df$protests <- as.numeric( df$protests )\n",
    "\n",
    "# Pop was really large and needs to be roughly on the same scale so that we dont have large variance\n",
    "df$pop = log(df$pop)\n",
    "\n",
    "# Look at data after pre-processing\n",
    "head(df)"
   ]
  },
  {
   "cell_type": "markdown",
   "id": "f2fbda5d-6fd6-4201-a4e5-9d24b203b556",
   "metadata": {},
   "source": [
    "-----------------------------------\n",
    "We may also mention that the population has values which are on a higher range of numbers compared to protest. So scaling down the population variable will make sure all the numeric in the data are on the same scale, which is important because it helps with comparing them easily and understanding the results better. It also makes the process of calculation more smooth. Another important reason to scale is that we are sure when population is 0, we expect the number of protests to be 0 which the function *log()* allows us to do.\n",
    "\n",
    "We also want to look at how seasons affect protests compared to just looking at individual months. While focusing on seasons gives us a general idea of yearly trends, it means we lose some specific monthly details and might not be totally accurate because seasons can vary in length. When we leave out months from our model, we end up with a weird situation where the relationship between population and protests is inversly proportional, I.e., as population increases, our prediction of protests decrease. So, keeping months in our model is vital to preserve all necessary information."
   ]
  },
  {
   "cell_type": "code",
   "execution_count": 3,
   "id": "86000e5e-1c2e-4142-85cb-b1e750d8e29f",
   "metadata": {},
   "outputs": [
    {
     "data": {
      "text/plain": [
       "\n",
       "Call:\n",
       "glm(formula = protests ~ year + seasons + prov + pop, family = poisson(link = \"log\"), \n",
       "    data = df)\n",
       "\n",
       "Coefficients:\n",
       "                               Estimate Std. Error z value Pr(>|z|)    \n",
       "(Intercept)                   108.36033   44.06429   2.459 0.013927 *  \n",
       "year2023                        0.22900    0.08222   2.785 0.005351 ** \n",
       "seasonsSpring                  -0.16426    0.06210  -2.645 0.008168 ** \n",
       "seasonsSummer                  -0.55482    0.05491 -10.103  < 2e-16 ***\n",
       "seasonsWinter                  -0.30459    0.06443  -4.728 2.27e-06 ***\n",
       "provBritish Columbia            1.74739    0.48382   3.612 0.000304 ***\n",
       "provManitoba                   -8.39432    3.35008  -2.506 0.012221 *  \n",
       "provNew Brunswick             -12.69997    4.95171  -2.565 0.010325 *  \n",
       "provNewfoundland and Labrador -15.97063    6.17935  -2.585 0.009752 ** \n",
       "provNorthwest Territories     -35.10391   13.31026  -2.637 0.008355 ** \n",
       "provNova Scotia               -10.94779    4.27275  -2.562 0.010400 *  \n",
       "provNunavut                   -35.40430   13.59235  -2.605 0.009195 ** \n",
       "provOntario                     9.60874    3.46953   2.769 0.005615 ** \n",
       "provPrince Edward Island      -24.73423    9.47767  -2.610 0.009061 ** \n",
       "provQuebec                      5.02131    1.85971   2.700 0.006933 ** \n",
       "provSaskatchewan              -10.25272    3.87380  -2.647 0.008128 ** \n",
       "provYukon                     -33.96570   13.34008  -2.546 0.010892 *  \n",
       "pop                            -6.88343    2.87356  -2.395 0.016601 *  \n",
       "---\n",
       "Signif. codes:  0 ‘***’ 0.001 ‘**’ 0.01 ‘*’ 0.05 ‘.’ 0.1 ‘ ’ 1\n",
       "\n",
       "(Dispersion parameter for poisson family taken to be 1)\n",
       "\n",
       "    Null deviance: 4971.50  on 298  degrees of freedom\n",
       "Residual deviance:  727.19  on 281  degrees of freedom\n",
       "AIC: 1756.7\n",
       "\n",
       "Number of Fisher Scoring iterations: 5\n"
      ]
     },
     "metadata": {},
     "output_type": "display_data"
    }
   ],
   "source": [
    "# Function to change month to season\n",
    "seasons <- function(month) {\n",
    "  if (month %in% c(\"December\", \"January\", \"February\")) {\n",
    "    return(\"Winter\")\n",
    "  } else if (month %in% c(\"March\", \"April\", \"May\")) {\n",
    "    return(\"Spring\")\n",
    "  } else if (month %in% c(\"June\", \"July\", \"August\")) {\n",
    "    return(\"Summer\")\n",
    "  } else {\n",
    "    return(\"Fall\")\n",
    "  }\n",
    "}\n",
    "\n",
    "df$seasons <- sapply(df$month, seasons)\n",
    "# Define seasons as category\n",
    "df$seasons <- as.factor( df$seasons )\n",
    "# Classic Poisson Regression with a log-link function\n",
    "md.1 <- glm( protests~year+seasons+prov+pop, data=df, family=poisson(link = \"log\") )\n",
    "summary(md.1)"
   ]
  },
  {
   "cell_type": "markdown",
   "id": "2473031a-feba-47f3-9dab-74570b4a3bb7",
   "metadata": {},
   "source": [
    "--------------------------------------------\n",
    "The next data processing is just an overview if there are any missing values which could impact the model. We also look at the summary of each variables to give us an understanding of their average, standard deviation, frequency, etc."
   ]
  },
  {
   "cell_type": "code",
   "execution_count": 4,
   "id": "6288d96d-2530-4a66-9976-7f902bdc2bd4",
   "metadata": {
    "jupyter": {
     "source_hidden": true
    }
   },
   "outputs": [
    {
     "name": "stdout",
     "output_type": "stream",
     "text": [
      "[1] \"-----------------Dimensions/Shape----------------------\"\n"
     ]
    },
    {
     "data": {
      "text/html": [
       "<style>\n",
       ".list-inline {list-style: none; margin:0; padding: 0}\n",
       ".list-inline>li {display: inline-block}\n",
       ".list-inline>li:not(:last-child)::after {content: \"\\00b7\"; padding: 0 .5ex}\n",
       "</style>\n",
       "<ol class=list-inline><li>299</li><li>6</li></ol>\n"
      ],
      "text/latex": [
       "\\begin{enumerate*}\n",
       "\\item 299\n",
       "\\item 6\n",
       "\\end{enumerate*}\n"
      ],
      "text/markdown": [
       "1. 299\n",
       "2. 6\n",
       "\n",
       "\n"
      ],
      "text/plain": [
       "[1] 299   6"
      ]
     },
     "metadata": {},
     "output_type": "display_data"
    },
    {
     "name": "stdout",
     "output_type": "stream",
     "text": [
      "[1] \"----------------Missing Value Count--------------------\"\n"
     ]
    },
    {
     "data": {
      "text/html": [
       "<style>\n",
       ".dl-inline {width: auto; margin:0; padding: 0}\n",
       ".dl-inline>dt, .dl-inline>dd {float: none; width: auto; display: inline-block}\n",
       ".dl-inline>dt::after {content: \":\\0020\"; padding-right: .5ex}\n",
       ".dl-inline>dt:not(:first-of-type) {padding-left: .5ex}\n",
       "</style><dl class=dl-inline><dt>year</dt><dd>0</dd><dt>month</dt><dd>0</dd><dt>prov</dt><dd>0</dd><dt>pop</dt><dd>0</dd><dt>protests</dt><dd>0</dd><dt>seasons</dt><dd>0</dd></dl>\n"
      ],
      "text/latex": [
       "\\begin{description*}\n",
       "\\item[year] 0\n",
       "\\item[month] 0\n",
       "\\item[prov] 0\n",
       "\\item[pop] 0\n",
       "\\item[protests] 0\n",
       "\\item[seasons] 0\n",
       "\\end{description*}\n"
      ],
      "text/markdown": [
       "year\n",
       ":   0month\n",
       ":   0prov\n",
       ":   0pop\n",
       ":   0protests\n",
       ":   0seasons\n",
       ":   0\n",
       "\n"
      ],
      "text/plain": [
       "    year    month     prov      pop protests  seasons \n",
       "       0        0        0        0        0        0 "
      ]
     },
     "metadata": {},
     "output_type": "display_data"
    },
    {
     "name": "stdout",
     "output_type": "stream",
     "text": [
      "[1] \"---------------------Summary---------------------------\"\n"
     ]
    },
    {
     "data": {
      "text/plain": [
       "   year          month                            prov          pop       \n",
       " 2022:156   April   : 26   Alberta                  : 23   Min.   :10.60  \n",
       " 2023:143   August  : 26   British Columbia         : 23   1st Qu.:12.02  \n",
       "            February: 26   Manitoba                 : 23   Median :13.85  \n",
       "            January : 26   New Brunswick            : 23   Mean   :13.56  \n",
       "            July    : 26   Newfoundland and Labrador: 23   3rd Qu.:15.35  \n",
       "            June    : 26   Northwest Territories    : 23   Max.   :16.58  \n",
       "            (Other) :143   (Other)                  :161                  \n",
       "    protests       seasons  \n",
       " Min.   : 0.00   Fall  :78  \n",
       " 1st Qu.: 2.00   Spring:78  \n",
       " Median : 6.00   Summer:78  \n",
       " Mean   :12.02   Winter:65  \n",
       " 3rd Qu.:16.50              \n",
       " Max.   :91.00              \n",
       "                            "
      ]
     },
     "metadata": {},
     "output_type": "display_data"
    }
   ],
   "source": [
    "print(\"-----------------Dimensions/Shape----------------------\")\n",
    "dim(df)             # Dimensions\n",
    "print(\"----------------Missing Value Count--------------------\")\n",
    "colSums(is.na(df))  # Missing values\n",
    "print(\"---------------------Summary---------------------------\")\n",
    "summary(df)         # Summary"
   ]
  }
 ],
 "metadata": {
  "kernelspec": {
   "display_name": "R",
   "language": "R",
   "name": "ir"
  },
  "language_info": {
   "codemirror_mode": "r",
   "file_extension": ".r",
   "mimetype": "text/x-r-source",
   "name": "R",
   "pygments_lexer": "r",
   "version": "4.3.1"
  }
 },
 "nbformat": 4,
 "nbformat_minor": 5
}
