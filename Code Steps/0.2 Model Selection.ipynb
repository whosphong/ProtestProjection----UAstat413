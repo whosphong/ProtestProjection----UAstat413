{
 "cells": [
  {
   "cell_type": "markdown",
   "id": "73922924-cb23-4442-8674-05fe29ec71e8",
   "metadata": {},
   "source": [
    "# Model Selection\n",
    "\n",
    "\n",
    "------------------------------------------"
   ]
  },
  {
   "cell_type": "markdown",
   "id": "a8381800-106a-485b-972d-a6a90e7dae09",
   "metadata": {},
   "source": [
    "__Fundamental of Poisson Regression:__\n",
    "\n",
    "---------------------------\n",
    "\n",
    "Poisson Regression models the expected count of events $Y$ as a function of predictor variables $X$ using the Poisson distribution:\n",
    "$$\n",
    "Y\\sim Poisson(\\lambda)\n",
    "$$\n",
    "Where $\\lambda$ represents the expected count of events. The relationship between the predictor variables and $\\lambda$ is modeled using the logarithm link function:\n",
    "\n",
    "$$\n",
    "log(\\lambda) = \\beta_0+\\beta_1X_1+\\beta_2X_2+ ... +\\beta_kX_k\n",
    "$$\n",
    "\n",
    "where $\\beta_0,\\beta_1,...,\\beta_k$ are the coefficients estimated by the regression and $X_1,X_2,...,X_k$ are the predictors. The interpretation of the coefficients is in terms of relative changes in the expected count of events, $\\lambda$. For example, if $\\beta_1$ ​ is positive, it indicates that for a one-unit increase in $X_1$​ , the expected count of events increases/decreases by a factor of $e^{\\beta_1}$ with differences up to a sign change of $\\beta_1$ ​, after holding other variables constant."
   ]
  },
  {
   "cell_type": "code",
   "execution_count": 5,
   "id": "7bb8a4e5-65e4-4ca3-947d-a27fcf0fed70",
   "metadata": {},
   "outputs": [],
   "source": [
    "library(MASS)"
   ]
  },
  {
   "cell_type": "code",
   "execution_count": 6,
   "id": "9f5767fa-db31-4575-9985-9c2f8a8afaa9",
   "metadata": {},
   "outputs": [],
   "source": [
    "library(boot)"
   ]
  },
  {
   "cell_type": "code",
   "execution_count": 7,
   "id": "7fa42e96-a755-4a99-be7b-5456d932c772",
   "metadata": {},
   "outputs": [
    {
     "data": {
      "text/plain": [
       "\n",
       "Call:\n",
       "glm(formula = protests ~ year + month + prov + pop, family = poisson(link = \"log\"), \n",
       "    data = df)\n",
       "\n",
       "Coefficients:\n",
       "                                Estimate Std. Error z value Pr(>|z|)    \n",
       "(Intercept)                   -177.86192   74.54008  -2.386 0.017027 *  \n",
       "year2023                        -0.29868    0.13766  -2.170 0.030034 *  \n",
       "monthAugust                     -0.75206    0.09666  -7.780 7.23e-15 ***\n",
       "monthDecember                   -0.73557    0.13446  -5.471 4.48e-08 ***\n",
       "monthFebruary                    0.09703    0.07590   1.278 0.201140    \n",
       "monthJanuary                    -0.30972    0.08397  -3.688 0.000226 ***\n",
       "monthJuly                       -0.63486    0.09365  -6.779 1.21e-11 ***\n",
       "monthJune                       -0.33059    0.08008  -4.128 3.65e-05 ***\n",
       "monthMarch                      -0.05841    0.07870  -0.742 0.457968    \n",
       "monthMay                        -0.08094    0.07475  -1.083 0.278928    \n",
       "monthNovember                   -0.27110    0.11281  -2.403 0.016257 *  \n",
       "monthOctober                    -0.22354    0.11222  -1.992 0.046377 *  \n",
       "monthSeptember                  -0.03334    0.08178  -0.408 0.683506    \n",
       "provBritish Columbia            -1.36078    0.81139  -1.677 0.093524 .  \n",
       "provManitoba                    13.37793    5.67332   2.358 0.018372 *  \n",
       "provNew Brunswick               19.48336    8.38549   2.323 0.020154 *  \n",
       "provNewfoundland and Labrador   24.17999   10.45747   2.312 0.020766 *  \n",
       "provNorthwest Territories       51.35224   22.51260   2.281 0.022546 *  \n",
       "provNova Scotia                 16.82176    7.23567   2.325 0.020081 *  \n",
       "provNunavut                     52.90702   22.99951   2.300 0.021428 *  \n",
       "provOntario                    -12.93414    5.87155  -2.203 0.027605 *  \n",
       "provPrince Edward Island        36.85816   16.04521   2.297 0.021611 *  \n",
       "provQuebec                      -7.05514    3.14611  -2.242 0.024929 *  \n",
       "provSaskatchewan                14.92069    6.55924   2.275 0.022920 *  \n",
       "provYukon                       52.74033   22.58829   2.335 0.019551 *  \n",
       "pop                             11.79415    4.86547   2.424 0.015348 *  \n",
       "---\n",
       "Signif. codes:  0 ‘***’ 0.001 ‘**’ 0.01 ‘*’ 0.05 ‘.’ 0.1 ‘ ’ 1\n",
       "\n",
       "(Dispersion parameter for poisson family taken to be 1)\n",
       "\n",
       "    Null deviance: 4971.50  on 298  degrees of freedom\n",
       "Residual deviance:  666.15  on 273  degrees of freedom\n",
       "AIC: 1711.6\n",
       "\n",
       "Number of Fisher Scoring iterations: 5\n"
      ]
     },
     "metadata": {},
     "output_type": "display_data"
    }
   ],
   "source": [
    "# Fit poisson regression model with chosen variables\n",
    "m1 <- glm( protests~year+month+prov+pop, data=df, family=poisson(link = \"log\") )\n",
    "summary(m1)"
   ]
  },
  {
   "cell_type": "markdown",
   "id": "6df142cb-6001-4d4e-b37a-3b3c98c70257",
   "metadata": {},
   "source": [
    "----------------------------------------\n",
    "From the summary function, it's evident that when selecting a significance level of $\\alpha = 0.05$, the variables: provBritish Columbia, monthSeptember, monthMay, monthMarch, and monthFebruary are deemed non-significant, meaning that we fail to reject the hypothesis:\n",
    "\n",
    "$$\n",
    "H_0: \\beta_k = 0 \\text{   vs.   } H_1: \\beta_k \\neq 0\n",
    "$$"
   ]
  }
 ],
 "metadata": {
  "kernelspec": {
   "display_name": "R",
   "language": "R",
   "name": "ir"
  },
  "language_info": {
   "codemirror_mode": "r",
   "file_extension": ".r",
   "mimetype": "text/x-r-source",
   "name": "R",
   "pygments_lexer": "r",
   "version": "4.3.1"
  }
 },
 "nbformat": 4,
 "nbformat_minor": 5
}
